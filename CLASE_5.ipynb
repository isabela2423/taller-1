{
  "nbformat": 4,
  "nbformat_minor": 0,
  "metadata": {
    "colab": {
      "provenance": []
    },
    "kernelspec": {
      "name": "python3",
      "display_name": "Python 3"
    },
    "language_info": {
      "name": "python"
    }
  },
  "cells": [
    {
      "cell_type": "markdown",
      "source": [
        "# Optimization with Python (1)\n",
        "\n",
        "## Linear programming (LP) \n",
        "\n",
        "Linear programming is the minimization (or maximization) of a linear objective subject to linear constraints. There are several widely adopted schemes for representing linear programming problems. Here we adopt a scheme corresponding where the linear objective is written in terms of decision variables $x_1, x_2, \\ldots, x_N$ as\n",
        "\n",
        "\\begin{align}\n",
        "\\min_{\\{x_1, x_1, \\ldots, x_N \\}} c_1x_1 + c_2x_2 + \\cdots + c_Nx_N\n",
        "\\end{align}\n",
        "\n",
        "subject to\n",
        "\n",
        "\\begin{align}\n",
        "x_i  \\geq 0 & \\qquad i=1,\\ldots,N\\quad\\mbox{lower bounds on decision variables}\\\\\n",
        "\\sum_{j=1}^N a^{ub}_{ij}x_j \\leq b^{ub}_i & \\qquad i=1,\\ldots,M_{ub}\\quad\\mbox{upper bound constraints} \\\\\n",
        "\\sum_{j=1}^N a^{eq}_{ij}x_j = b^{eq}_i & \\qquad i=1,\\ldots,M_{eq}\\quad\\mbox{equality constraints}\\\\\n",
        "\\end{align}\n",
        "\n",
        "\n",
        "### Matrix/Vector format\n",
        "\n",
        "The notation can be simplified by adopting a matrix/vector formulation where\n",
        "\n",
        "\\begin{align}\n",
        "\\min_{x\\geq 0} c^T x\n",
        "\\end{align}\n",
        "\n",
        "subject to\n",
        "\n",
        "\\begin{align}\n",
        "A_{ub} x \\leq b_{ub} \\\\\n",
        "A_{eq} x = b_{eq}\n",
        "\\end{align}\n",
        "\n",
        "where $c$, $A_{ub}, b_{ub}$, and $A_{eq}, b_{eq}$, are vectors and matrices of coefficients constructed from the linear expressions given above.\n",
        "\n",
        "\n",
        "### App in Scipy:\n",
        "\n",
        "In scipy, the linear programming is implemented in **linprog** module. There are two methods: **simplex and interior-point**. The simplex method is more like a brute-force search algorithm, it has high complexity, therefore not suitable for high dimensional problem. The interior-point method is makeing the problem into primal-dual formulation and place a log barrier for the inequality constraints.\n"
      ],
      "metadata": {
        "id": "PUkazhzQT77r"
      }
    },
    {
      "cell_type": "code",
      "execution_count": 3,
      "metadata": {
        "id": "Reezzx_fT7Vb"
      },
      "outputs": [],
      "source": [
        "import numpy as np\n",
        "import pandas as pd\n",
        "import matplotlib.pyplot as plt\n",
        "from scipy.optimize import minimize\n",
        "from scipy.optimize import linprog"
      ]
    },
    {
      "cell_type": "markdown",
      "source": [
        "## Example 1: Production\n",
        "\n",
        "Suppose that a factory can produce two goods called **Product 1** and **Product 2**.\n",
        "\n",
        "To produce each product requires both **material** and **labor**.\n",
        "\n",
        "Selling each product generates **revenue**.\n",
        "\n",
        "Required per unit material and labor inputs and revenues are shown in table below:"
      ],
      "metadata": {
        "id": "mGrFiZjeXMSS"
      }
    },
    {
      "cell_type": "code",
      "source": [
        "# Data\n",
        "df = pd.DataFrame({' ' : ['Material', 'Labor', 'Revenue'],\n",
        "        'Product 1' : [2, 4, 3],\n",
        "        'Product 2' : [5, 2, 4]})\n",
        "df\n",
        "\n",
        "##Minimizar el valor negativo del ingreso = maximizar el ingreso \n",
        "##Min - R : 3x1 +4x2\n",
        "## st ; 30 => 2x1 + 5x2 +x3\n",
        "##      20 => 4x1 + 2x2 +x4"
      ],
      "metadata": {
        "colab": {
          "base_uri": "https://localhost:8080/",
          "height": 143
        },
        "id": "CqfBcX2xYLMR",
        "outputId": "87062732-28e6-4f45-d5b9-2e20d061f45f"
      },
      "execution_count": 4,
      "outputs": [
        {
          "output_type": "execute_result",
          "data": {
            "text/plain": [
              "             Product 1  Product 2\n",
              "0  Material          2          5\n",
              "1     Labor          4          2\n",
              "2   Revenue          3          4"
            ],
            "text/html": [
              "\n",
              "  <div id=\"df-f1ebdeae-1028-4a43-8d00-8b79f1b09671\">\n",
              "    <div class=\"colab-df-container\">\n",
              "      <div>\n",
              "<style scoped>\n",
              "    .dataframe tbody tr th:only-of-type {\n",
              "        vertical-align: middle;\n",
              "    }\n",
              "\n",
              "    .dataframe tbody tr th {\n",
              "        vertical-align: top;\n",
              "    }\n",
              "\n",
              "    .dataframe thead th {\n",
              "        text-align: right;\n",
              "    }\n",
              "</style>\n",
              "<table border=\"1\" class=\"dataframe\">\n",
              "  <thead>\n",
              "    <tr style=\"text-align: right;\">\n",
              "      <th></th>\n",
              "      <th></th>\n",
              "      <th>Product 1</th>\n",
              "      <th>Product 2</th>\n",
              "    </tr>\n",
              "  </thead>\n",
              "  <tbody>\n",
              "    <tr>\n",
              "      <th>0</th>\n",
              "      <td>Material</td>\n",
              "      <td>2</td>\n",
              "      <td>5</td>\n",
              "    </tr>\n",
              "    <tr>\n",
              "      <th>1</th>\n",
              "      <td>Labor</td>\n",
              "      <td>4</td>\n",
              "      <td>2</td>\n",
              "    </tr>\n",
              "    <tr>\n",
              "      <th>2</th>\n",
              "      <td>Revenue</td>\n",
              "      <td>3</td>\n",
              "      <td>4</td>\n",
              "    </tr>\n",
              "  </tbody>\n",
              "</table>\n",
              "</div>\n",
              "      <button class=\"colab-df-convert\" onclick=\"convertToInteractive('df-f1ebdeae-1028-4a43-8d00-8b79f1b09671')\"\n",
              "              title=\"Convert this dataframe to an interactive table.\"\n",
              "              style=\"display:none;\">\n",
              "        \n",
              "  <svg xmlns=\"http://www.w3.org/2000/svg\" height=\"24px\"viewBox=\"0 0 24 24\"\n",
              "       width=\"24px\">\n",
              "    <path d=\"M0 0h24v24H0V0z\" fill=\"none\"/>\n",
              "    <path d=\"M18.56 5.44l.94 2.06.94-2.06 2.06-.94-2.06-.94-.94-2.06-.94 2.06-2.06.94zm-11 1L8.5 8.5l.94-2.06 2.06-.94-2.06-.94L8.5 2.5l-.94 2.06-2.06.94zm10 10l.94 2.06.94-2.06 2.06-.94-2.06-.94-.94-2.06-.94 2.06-2.06.94z\"/><path d=\"M17.41 7.96l-1.37-1.37c-.4-.4-.92-.59-1.43-.59-.52 0-1.04.2-1.43.59L10.3 9.45l-7.72 7.72c-.78.78-.78 2.05 0 2.83L4 21.41c.39.39.9.59 1.41.59.51 0 1.02-.2 1.41-.59l7.78-7.78 2.81-2.81c.8-.78.8-2.07 0-2.86zM5.41 20L4 18.59l7.72-7.72 1.47 1.35L5.41 20z\"/>\n",
              "  </svg>\n",
              "      </button>\n",
              "      \n",
              "  <style>\n",
              "    .colab-df-container {\n",
              "      display:flex;\n",
              "      flex-wrap:wrap;\n",
              "      gap: 12px;\n",
              "    }\n",
              "\n",
              "    .colab-df-convert {\n",
              "      background-color: #E8F0FE;\n",
              "      border: none;\n",
              "      border-radius: 50%;\n",
              "      cursor: pointer;\n",
              "      display: none;\n",
              "      fill: #1967D2;\n",
              "      height: 32px;\n",
              "      padding: 0 0 0 0;\n",
              "      width: 32px;\n",
              "    }\n",
              "\n",
              "    .colab-df-convert:hover {\n",
              "      background-color: #E2EBFA;\n",
              "      box-shadow: 0px 1px 2px rgba(60, 64, 67, 0.3), 0px 1px 3px 1px rgba(60, 64, 67, 0.15);\n",
              "      fill: #174EA6;\n",
              "    }\n",
              "\n",
              "    [theme=dark] .colab-df-convert {\n",
              "      background-color: #3B4455;\n",
              "      fill: #D2E3FC;\n",
              "    }\n",
              "\n",
              "    [theme=dark] .colab-df-convert:hover {\n",
              "      background-color: #434B5C;\n",
              "      box-shadow: 0px 1px 3px 1px rgba(0, 0, 0, 0.15);\n",
              "      filter: drop-shadow(0px 1px 2px rgba(0, 0, 0, 0.3));\n",
              "      fill: #FFFFFF;\n",
              "    }\n",
              "  </style>\n",
              "\n",
              "      <script>\n",
              "        const buttonEl =\n",
              "          document.querySelector('#df-f1ebdeae-1028-4a43-8d00-8b79f1b09671 button.colab-df-convert');\n",
              "        buttonEl.style.display =\n",
              "          google.colab.kernel.accessAllowed ? 'block' : 'none';\n",
              "\n",
              "        async function convertToInteractive(key) {\n",
              "          const element = document.querySelector('#df-f1ebdeae-1028-4a43-8d00-8b79f1b09671');\n",
              "          const dataTable =\n",
              "            await google.colab.kernel.invokeFunction('convertToInteractive',\n",
              "                                                     [key], {});\n",
              "          if (!dataTable) return;\n",
              "\n",
              "          const docLinkHtml = 'Like what you see? Visit the ' +\n",
              "            '<a target=\"_blank\" href=https://colab.research.google.com/notebooks/data_table.ipynb>data table notebook</a>'\n",
              "            + ' to learn more about interactive tables.';\n",
              "          element.innerHTML = '';\n",
              "          dataTable['output_type'] = 'display_data';\n",
              "          await google.colab.output.renderOutput(dataTable, element);\n",
              "          const docLink = document.createElement('div');\n",
              "          docLink.innerHTML = docLinkHtml;\n",
              "          element.appendChild(docLink);\n",
              "        }\n",
              "      </script>\n",
              "    </div>\n",
              "  </div>\n",
              "  "
            ]
          },
          "metadata": {},
          "execution_count": 4
        }
      ]
    },
    {
      "cell_type": "markdown",
      "source": [
        "There are 30 units of material and 20 units of labor available.\n",
        "\n",
        "**Problem:**\n",
        "A firm’s problem is to construct a production plan that uses its 30 units of materials and 20 unites of labor to maximize its revenue.\n",
        "\n",
        "Let $x_i$ denote the quantity of Product $i$ that the firm produces.\n",
        "\n",
        "This problem can be formulated as:\n",
        "\n",
        "$$ \\max_{\\{ x_1,x_2 \\} } z =  3 x_1 + 4 x_2 $$\n",
        "$$ \\text{s.t.}\\ 2 x_1 + 5 x_2 \\leq 30 $$\n",
        "$$ 4 x_1 + 2 x_2 \\leq 20 $$\n",
        "$$ x_1,\\ x_2 \\geq 0 $$\n",
        "\n",
        "The following graph illustrates the firm’s constraints and iso-revenue lines:"
      ],
      "metadata": {
        "id": "WgeOKcmJYOmX"
      }
    },
    {
      "cell_type": "code",
      "source": [
        "#@title\n",
        "from matplotlib.patches import Polygon\n",
        "fig, ax = plt.subplots(figsize=(8, 6))\n",
        "ax.grid()\n",
        "\n",
        "# Draw constraint lines\n",
        "ax.hlines(0, -1, 17.5)\n",
        "ax.vlines(0, -1, 12)\n",
        "ax.plot(np.linspace(-1, 17.5, 100), 6-0.4*np.linspace(-1, 17.5, 100), color=\"c\")\n",
        "ax.plot(np.linspace(-1, 5.5, 100), 10-2*np.linspace(-1, 5.5, 100), color=\"c\")\n",
        "ax.text(1.5, 8, \"$2x_1 + 5x_2 \\leq 30$\", size=12)\n",
        "ax.text(10, 2.5, \"$4x_1 + 2x_2 \\leq 20$\", size=12)\n",
        "ax.text(-2, 2, \"$x_2 \\geq 0$\", size=12)\n",
        "ax.text(2.5, -0.7, \"$x_1 \\geq 0$\", size=12)\n",
        "\n",
        "# Draw the feasible region\n",
        "feasible_set = Polygon(np.array([[0, 0], \n",
        "                                 [0, 6], \n",
        "                                 [2.5, 5], \n",
        "                                 [5, 0]]), \n",
        "                       color=\"cyan\")\n",
        "ax.add_patch(feasible_set)\n",
        "\n",
        "# Draw the objective function\n",
        "ax.plot(np.linspace(-1, 5.5, 100), 3.875-0.75*np.linspace(-1, 5.5, 100), color=\"orange\")\n",
        "ax.plot(np.linspace(-1, 5.5, 100), 5.375-0.75*np.linspace(-1, 5.5, 100), color=\"orange\")\n",
        "ax.plot(np.linspace(-1, 5.5, 100), 6.875-0.75*np.linspace(-1, 5.5, 100), color=\"orange\")\n",
        "ax.arrow(-1.6, 5, 0, 2, width = 0.05, head_width=0.2, head_length=0.5, color=\"orange\")\n",
        "ax.text(5.7, 1, \"$z = 3x_1 + 4x_2$\", size=12)\n",
        "\n",
        "# Draw the optimal solution\n",
        "ax.plot(2.5, 5, \"*\", color=\"black\")\n",
        "ax.text(2.7, 5.2, \"Optimal Solution\", size=12)\n",
        "\n",
        "plt.show()"
      ],
      "metadata": {
        "colab": {
          "base_uri": "https://localhost:8080/",
          "height": 374
        },
        "cellView": "form",
        "id": "4C07_zC1cGbl",
        "outputId": "df463798-9761-4e8a-baff-5d1e422384a2"
      },
      "execution_count": 5,
      "outputs": [
        {
          "output_type": "display_data",
          "data": {
            "text/plain": [
              "<Figure size 576x432 with 1 Axes>"
            ],
            "image/png": "[encoded data removed]"
          },
          "metadata": {
            "needs_background": "light"
          }
        }
      ]
    },
    {
      "cell_type": "markdown",
      "source": [
        "## Solution:"
      ],
      "metadata": {
        "id": "A5VOowVScZEa"
      }
    },
    {
      "cell_type": "code",
      "source": [
        "# Parametros de la función objetivo\n",
        "c = np.array([3, 4])\n",
        "\n",
        "# Restricciones de desigualdad\n",
        "A = np.array([[2, 5],\n",
        "                  [4, 2]])\n",
        "b = np.array([30,20])\n",
        "\n",
        "# Solución del problema\n",
        "sol = linprog(-c, A_ub=A, b_ub=b)\n",
        "sol\n",
        "\n",
        "##Como se interpreta el resultado \n",
        "##El resultado es una aproximación númerica \n",
        "## x: array([2.5, 5. ]) solución optima 2.5 x1 y 5x2 (solución optima al problema)\n",
        "##method = \"revised simplex\"  da una mejor aproximación"
      ],
      "metadata": {
        "colab": {
          "base_uri": "https://localhost:8080/"
        },
        "id": "1uEuBSLpUtHA",
        "outputId": "12902bbc-6cb6-43c1-a4e4-678ba9958ce2"
      },
      "execution_count": 6,
      "outputs": [
        {
          "output_type": "execute_result",
          "data": {
            "text/plain": [
              "     con: array([], dtype=float64)\n",
              "     fun: -27.49999999907403\n",
              " message: 'Optimization terminated successfully.'\n",
              "     nit: 4\n",
              "   slack: array([8.43161985e-10, 9.11981601e-10])\n",
              "  status: 0\n",
              " success: True\n",
              "       x: array([2.5, 5. ])"
            ]
          },
          "metadata": {},
          "execution_count": 6
        }
      ]
    },
    {
      "cell_type": "markdown",
      "source": [
        "## Example 2: Investment problem\n",
        "\n",
        "Un fondo inversión tiene $\\$100.000$ para invertir en un horizonte de tres años. Hay tres opciones de inversión disponibles:\n",
        "\n",
        "**Anualidad**: el fondo puede destinar la misma cantidad de capital al comienzo de cada año y recibir un pago del 130% del capital total invertido al final del tercer año. Una vez que el fondo decide invertir en esta anualidad, debe seguir invirtiendo en todos los años subsiguientes en el horizonte de tres años.\n",
        "\n",
        "**Cuenta bancaria**: el fondo puede depositar cualquier cantidad en un banco al principio de cada año y recibir su capital más el 6% de interés al final de ese año. Además, al fondo se le permite pedir prestado hasta \\$20,000 al comienzo de cada año y se le pide que devuelva la cantidad prestada más el 6% de interés al final del año. El fondo puede elegir si depositar o pedir prestado al comienzo de cada año.\n",
        "\n",
        "**Bono corporativo**: Al comienzo del segundo año está disponible un bono corporativo. El fondo puede comprar una cantidad que no supere los $50.000 de este bono al comienzo del segundo año y al final del tercer año recibir un pago del 130% de la cantidad invertida en el bono.\n",
        "\n",
        "El objetivo del fondo es **maximizar el pago total que posee al final del tercer año**.\n",
        "\n",
        "Podemos formular esto como un problema de programación lineal.\n",
        "\n",
        "Sea $x_1$ la cantidad puesta en la anualidad, $x_2$, $x_3$, $x_4$ sean los saldos de los depósitos bancarios al comienzo de los tres años y $x_5$ la cantidad invertida en el bono corporativo.\n",
        "\n",
        "Cuando $x_2$, $x_3$, $x_4$ son negativos, significa que el fondo mutuo ha tomado prestado del banco.\n",
        "\n",
        "La siguiente tabla muestra las variables de decisión del fondo descrito anteriormente:"
      ],
      "metadata": {
        "id": "LfS4qW09cqGZ"
      }
    },
    {
      "cell_type": "code",
      "source": [
        "# Data\n",
        "df = pd.DataFrame({' ' : ['Annuity', 'Bank account', 'Corporate bond'],\n",
        "        'Year 1' : ['x_1', 'x_2', 0],\n",
        "        'Year 2' : ['x_1', 'x_3', 'x_5'],\n",
        "        'Year 3' : ['x_1', 'x_4', 0]})\n",
        "df"
      ],
      "metadata": {
        "colab": {
          "base_uri": "https://localhost:8080/",
          "height": 143
        },
        "id": "n8IaCBSXUtNT",
        "outputId": "2c0ea2d8-2b3e-4fe2-b2a0-a418ab738929"
      },
      "execution_count": 7,
      "outputs": [
        {
          "output_type": "execute_result",
          "data": {
            "text/plain": [
              "                  Year 1 Year 2 Year 3\n",
              "0         Annuity    x_1    x_1    x_1\n",
              "1    Bank account    x_2    x_3    x_4\n",
              "2  Corporate bond      0    x_5      0"
            ],
            "text/html": [
              "\n",
              "  <div id=\"df-3c999af6-0cc8-4a78-8905-3bd317c8f0af\">\n",
              "    <div class=\"colab-df-container\">\n",
              "      <div>\n",
              "<style scoped>\n",
              "    .dataframe tbody tr th:only-of-type {\n",
              "        vertical-align: middle;\n",
              "    }\n",
              "\n",
              "    .dataframe tbody tr th {\n",
              "        vertical-align: top;\n",
              "    }\n",
              "\n",
              "    .dataframe thead th {\n",
              "        text-align: right;\n",
              "    }\n",
              "</style>\n",
              "<table border=\"1\" class=\"dataframe\">\n",
              "  <thead>\n",
              "    <tr style=\"text-align: right;\">\n",
              "      <th></th>\n",
              "      <th></th>\n",
              "      <th>Year 1</th>\n",
              "      <th>Year 2</th>\n",
              "      <th>Year 3</th>\n",
              "    </tr>\n",
              "  </thead>\n",
              "  <tbody>\n",
              "    <tr>\n",
              "      <th>0</th>\n",
              "      <td>Annuity</td>\n",
              "      <td>x_1</td>\n",
              "      <td>x_1</td>\n",
              "      <td>x_1</td>\n",
              "    </tr>\n",
              "    <tr>\n",
              "      <th>1</th>\n",
              "      <td>Bank account</td>\n",
              "      <td>x_2</td>\n",
              "      <td>x_3</td>\n",
              "      <td>x_4</td>\n",
              "    </tr>\n",
              "    <tr>\n",
              "      <th>2</th>\n",
              "      <td>Corporate bond</td>\n",
              "      <td>0</td>\n",
              "      <td>x_5</td>\n",
              "      <td>0</td>\n",
              "    </tr>\n",
              "  </tbody>\n",
              "</table>\n",
              "</div>\n",
              "      <button class=\"colab-df-convert\" onclick=\"convertToInteractive('df-3c999af6-0cc8-4a78-8905-3bd317c8f0af')\"\n",
              "              title=\"Convert this dataframe to an interactive table.\"\n",
              "              style=\"display:none;\">\n",
              "        \n",
              "  <svg xmlns=\"http://www.w3.org/2000/svg\" height=\"24px\"viewBox=\"0 0 24 24\"\n",
              "       width=\"24px\">\n",
              "    <path d=\"M0 0h24v24H0V0z\" fill=\"none\"/>\n",
              "    <path d=\"M18.56 5.44l.94 2.06.94-2.06 2.06-.94-2.06-.94-.94-2.06-.94 2.06-2.06.94zm-11 1L8.5 8.5l.94-2.06 2.06-.94-2.06-.94L8.5 2.5l-.94 2.06-2.06.94zm10 10l.94 2.06.94-2.06 2.06-.94-2.06-.94-.94-2.06-.94 2.06-2.06.94z\"/><path d=\"M17.41 7.96l-1.37-1.37c-.4-.4-.92-.59-1.43-.59-.52 0-1.04.2-1.43.59L10.3 9.45l-7.72 7.72c-.78.78-.78 2.05 0 2.83L4 21.41c.39.39.9.59 1.41.59.51 0 1.02-.2 1.41-.59l7.78-7.78 2.81-2.81c.8-.78.8-2.07 0-2.86zM5.41 20L4 18.59l7.72-7.72 1.47 1.35L5.41 20z\"/>\n",
              "  </svg>\n",
              "      </button>\n",
              "      \n",
              "  <style>\n",
              "    .colab-df-container {\n",
              "      display:flex;\n",
              "      flex-wrap:wrap;\n",
              "      gap: 12px;\n",
              "    }\n",
              "\n",
              "    .colab-df-convert {\n",
              "      background-color: #E8F0FE;\n",
              "      border: none;\n",
              "      border-radius: 50%;\n",
              "      cursor: pointer;\n",
              "      display: none;\n",
              "      fill: #1967D2;\n",
              "      height: 32px;\n",
              "      padding: 0 0 0 0;\n",
              "      width: 32px;\n",
              "    }\n",
              "\n",
              "    .colab-df-convert:hover {\n",
              "      background-color: #E2EBFA;\n",
              "      box-shadow: 0px 1px 2px rgba(60, 64, 67, 0.3), 0px 1px 3px 1px rgba(60, 64, 67, 0.15);\n",
              "      fill: #174EA6;\n",
              "    }\n",
              "\n",
              "    [theme=dark] .colab-df-convert {\n",
              "      background-color: #3B4455;\n",
              "      fill: #D2E3FC;\n",
              "    }\n",
              "\n",
              "    [theme=dark] .colab-df-convert:hover {\n",
              "      background-color: #434B5C;\n",
              "      box-shadow: 0px 1px 3px 1px rgba(0, 0, 0, 0.15);\n",
              "      filter: drop-shadow(0px 1px 2px rgba(0, 0, 0, 0.3));\n",
              "      fill: #FFFFFF;\n",
              "    }\n",
              "  </style>\n",
              "\n",
              "      <script>\n",
              "        const buttonEl =\n",
              "          document.querySelector('#df-3c999af6-0cc8-4a78-8905-3bd317c8f0af button.colab-df-convert');\n",
              "        buttonEl.style.display =\n",
              "          google.colab.kernel.accessAllowed ? 'block' : 'none';\n",
              "\n",
              "        async function convertToInteractive(key) {\n",
              "          const element = document.querySelector('#df-3c999af6-0cc8-4a78-8905-3bd317c8f0af');\n",
              "          const dataTable =\n",
              "            await google.colab.kernel.invokeFunction('convertToInteractive',\n",
              "                                                     [key], {});\n",
              "          if (!dataTable) return;\n",
              "\n",
              "          const docLinkHtml = 'Like what you see? Visit the ' +\n",
              "            '<a target=\"_blank\" href=https://colab.research.google.com/notebooks/data_table.ipynb>data table notebook</a>'\n",
              "            + ' to learn more about interactive tables.';\n",
              "          element.innerHTML = '';\n",
              "          dataTable['output_type'] = 'display_data';\n",
              "          await google.colab.output.renderOutput(dataTable, element);\n",
              "          const docLink = document.createElement('div');\n",
              "          docLink.innerHTML = docLinkHtml;\n",
              "          element.appendChild(docLink);\n",
              "        }\n",
              "      </script>\n",
              "    </div>\n",
              "  </div>\n",
              "  "
            ]
          },
          "metadata": {},
          "execution_count": 7
        }
      ]
    },
    {
      "cell_type": "markdown",
      "source": [
        "La toma de decisiones del fondo procede de acuerdo con la siguiente secuencia de tiempo:\n",
        "\n",
        "1. Al comienzo del primer año, el fondo decide cuánto invertir en la anualidad y cuánto depositar en el banco. Esta decisión está sujeta a la restricción:\n",
        "\n",
        "$$ x_1 + x_2 = \\$100.000 $$\n",
        "\n",
        "2. Al comienzo del segundo año, el fondo tiene un saldo bancario de $1.06 x_2$. Debe mantener $x_1$ en la anualidad. Puede optar por poner $x_5$ en el bono corporativo y poner $x_3$ en el banco. Estas decisiones están restringidas por\n",
        "\n",
        "$$ x_1 + x_5 = 1.06 x_2 - x_3 $$\n",
        "\n",
        "3. Al inicio del tercer año, el fondo tiene un saldo en la cuenta bancaria igual a $1.06 x_3$. Debe invertir nuevamente $x_1$ en la anualidad, dejándolo con un saldo en cuenta bancaria igual a $x_4$. Esta situación se resume en la restricción:\n",
        "\n",
        "$$ x_1 = 1.06 x_3 - x_4 $$\n",
        "\n",
        "La **función objetivo** del fondo, es decir, su riqueza al final del tercer año es:\n",
        "\n",
        "$$ 1,30 \\cdot 3 x_1 + 1,06 x_4 + 1,30 x_5 $$\n",
        "\n",
        "Así, el fondo enfrenta el programa lineal:\n",
        "\n",
        "$$ \\max_{\\{ x \\} }\\  1.30 \\cdot 3 x_1 + 1.06 x_4 + 1.30 x_5  $$\n",
        "$$ \\text{s.t.}\\ x_1 + x_2 = \\$100.000 $$\n",
        "$$ x_1 - 1.06 x_2 + x_3 +  x_5 = 0 $$\n",
        "$$ x_1 - 1.06 x_3 + x_4  = 0 $$\n",
        "$$ x_2, x_3, x_4 \\geq -\\$20.000 $$\n",
        "$$ x_5 \\leq \\$50.000 $$\n"
      ],
      "metadata": {
        "id": "fA3tIfKAe6AO"
      }
    },
    {
      "cell_type": "code",
      "source": [
        "# Parameters\n",
        "rate = 1.06\n",
        "\n",
        "# Objective function parameters\n",
        "c2 = np.array([1.30*3, 0, 0, 1.06, 1.30])\n",
        "\n",
        "# equality constraints\n",
        "A2 = np.array([[1,  1,  0,  0,  0],\n",
        "                  [1, -rate, 1, 0, 1],\n",
        "                  [1, 0, -rate, 1, 0]])\n",
        "b2 = np.array([100000, 0, 0])\n",
        "\n",
        "# Bounds on decision variables\n",
        "bounds2 = [(  0,    None),\n",
        "              (-20000, None),\n",
        "              (-20000, None),\n",
        "              (-20000, None),\n",
        "              (  0,   50000)]\n",
        "\n",
        "# Solve the problem:\n",
        "res2 = linprog(-c2, A_eq=A2, b_eq=b2,\n",
        "                  bounds=bounds2, method='revised simplex')\n",
        "\n",
        "res2"
      ],
      "metadata": {
        "colab": {
          "base_uri": "https://localhost:8080/"
        },
        "id": "o7FNvdBKUtRK",
        "outputId": "ecb44dc2-cb3e-4411-83b6-00e8ba8b406a"
      },
      "execution_count": 8,
      "outputs": [
        {
          "output_type": "execute_result",
          "data": {
            "text/plain": [
              "     con: array([ 1.45519152e-11, -2.18278728e-11,  0.00000000e+00])\n",
              "     fun: -141018.24349792692\n",
              " message: 'Optimization terminated successfully.'\n",
              "     nit: 4\n",
              "   slack: array([], dtype=float64)\n",
              "  status: 0\n",
              " success: True\n",
              "       x: array([ 24927.75474306,  75072.24525694,   4648.8252293 , -20000.        ,\n",
              "        50000.        ])"
            ]
          },
          "metadata": {},
          "execution_count": 8
        }
      ]
    },
    {
      "cell_type": "markdown",
      "source": [
        "## Tareas: \n",
        "\n",
        "#### 1. Problema de asignación de recursos productivos:\n",
        "Una empresa produce cuatro bienes diferentes y en cantidades diferentes: las cantidades producidas diariamente de los cuatro productos son $x_1$, $x_2$, $x_3$, $x_4$. Si la **ganancia** por unidad de cada uno es \\$ 20, \\$ 12, \\$ 40 y \\$ 25, respectivamente, encuentre la cantidad de producción total (diaria) que **maximiza las ganancias** para la empresa, teniendo en cuenta las siguientes condiciones:\n",
        "\n",
        "* La mano de obra contrada solo permite producir un número máximo de unidades por día de cincuenta (50).\n",
        "* Por cada unidad producida de cada uno se requieren las siguientes cantidades de materia prima A y de materia prima B: para el primer producto se necesitan solo tres (3) unidades de materia prima A; para el segundo producto requieren dos (2) unidades de la materia prima A y una (1) unidad de la materia prima B; para el tercer producto necesita una (1) unidad de materia prima A y dos (2) unidades de B. Finalmente, para el cuarto producto se requieren solo tres (3) unidades de materia prima B.\n",
        "\n",
        "* Debido a la disponibilidad de transporte y almacenamiento en bodega, solo se pueden disponer diariamente cien (100) unidades de la materia prima A y noventa (90) unidades de B.\n",
        "\n",
        "Formular y resolver el problema de optimización.\n",
        "\n",
        "\n",
        "#### 2. Consulta optimizador CVXPY (Convex optimization). \n",
        "See its homepage cvxpy.\n",
        "There are a few examples of its usages at https://www.cvxpy.org/examples/index.html\n",
        "For linear programming, see https://www.cvxpy.org/examples/basic/linear_program.html"
      ],
      "metadata": {
        "id": "YbnwoELZUtmU"
      }
    },
    {
      "cell_type": "code",
      "source": [
        "df = pd.DataFrame({' ' : ['QA', 'QB', 'Revenue'],\n",
        "        'Product 1' : [3, 0, 20],\n",
        "        'Product 2' : [2, 1, 12],\n",
        "        'Product 3' : [1, 2, 40], \n",
        "        'Product 4' : [0, 3, 25]})\n",
        "df"
      ],
      "metadata": {
        "colab": {
          "base_uri": "https://localhost:8080/",
          "height": 143
        },
        "id": "SBqYAG4Te_4m",
        "outputId": "ea7ef08f-254f-4568-e228-bb79c2076848"
      },
      "execution_count": 9,
      "outputs": [
        {
          "output_type": "execute_result",
          "data": {
            "text/plain": [
              "            Product 1  Product 2  Product 3  Product 4\n",
              "0       QA          3          2          1          0\n",
              "1       QB          0          1          2          3\n",
              "2  Revenue         20         12         40         25"
            ],
            "text/html": [
              "\n",
              "  <div id=\"df-ddb1a6d5-d9ca-4f1f-a6b4-c4059e0fd56d\">\n",
              "    <div class=\"colab-df-container\">\n",
              "      <div>\n",
              "<style scoped>\n",
              "    .dataframe tbody tr th:only-of-type {\n",
              "        vertical-align: middle;\n",
              "    }\n",
              "\n",
              "    .dataframe tbody tr th {\n",
              "        vertical-align: top;\n",
              "    }\n",
              "\n",
              "    .dataframe thead th {\n",
              "        text-align: right;\n",
              "    }\n",
              "</style>\n",
              "<table border=\"1\" class=\"dataframe\">\n",
              "  <thead>\n",
              "    <tr style=\"text-align: right;\">\n",
              "      <th></th>\n",
              "      <th></th>\n",
              "      <th>Product 1</th>\n",
              "      <th>Product 2</th>\n",
              "      <th>Product 3</th>\n",
              "      <th>Product 4</th>\n",
              "    </tr>\n",
              "  </thead>\n",
              "  <tbody>\n",
              "    <tr>\n",
              "      <th>0</th>\n",
              "      <td>QA</td>\n",
              "      <td>3</td>\n",
              "      <td>2</td>\n",
              "      <td>1</td>\n",
              "      <td>0</td>\n",
              "    </tr>\n",
              "    <tr>\n",
              "      <th>1</th>\n",
              "      <td>QB</td>\n",
              "      <td>0</td>\n",
              "      <td>1</td>\n",
              "      <td>2</td>\n",
              "      <td>3</td>\n",
              "    </tr>\n",
              "    <tr>\n",
              "      <th>2</th>\n",
              "      <td>Revenue</td>\n",
              "      <td>20</td>\n",
              "      <td>12</td>\n",
              "      <td>40</td>\n",
              "      <td>25</td>\n",
              "    </tr>\n",
              "  </tbody>\n",
              "</table>\n",
              "</div>\n",
              "      <button class=\"colab-df-convert\" onclick=\"convertToInteractive('df-ddb1a6d5-d9ca-4f1f-a6b4-c4059e0fd56d')\"\n",
              "              title=\"Convert this dataframe to an interactive table.\"\n",
              "              style=\"display:none;\">\n",
              "        \n",
              "  <svg xmlns=\"http://www.w3.org/2000/svg\" height=\"24px\"viewBox=\"0 0 24 24\"\n",
              "       width=\"24px\">\n",
              "    <path d=\"M0 0h24v24H0V0z\" fill=\"none\"/>\n",
              "    <path d=\"M18.56 5.44l.94 2.06.94-2.06 2.06-.94-2.06-.94-.94-2.06-.94 2.06-2.06.94zm-11 1L8.5 8.5l.94-2.06 2.06-.94-2.06-.94L8.5 2.5l-.94 2.06-2.06.94zm10 10l.94 2.06.94-2.06 2.06-.94-2.06-.94-.94-2.06-.94 2.06-2.06.94z\"/><path d=\"M17.41 7.96l-1.37-1.37c-.4-.4-.92-.59-1.43-.59-.52 0-1.04.2-1.43.59L10.3 9.45l-7.72 7.72c-.78.78-.78 2.05 0 2.83L4 21.41c.39.39.9.59 1.41.59.51 0 1.02-.2 1.41-.59l7.78-7.78 2.81-2.81c.8-.78.8-2.07 0-2.86zM5.41 20L4 18.59l7.72-7.72 1.47 1.35L5.41 20z\"/>\n",
              "  </svg>\n",
              "      </button>\n",
              "      \n",
              "  <style>\n",
              "    .colab-df-container {\n",
              "      display:flex;\n",
              "      flex-wrap:wrap;\n",
              "      gap: 12px;\n",
              "    }\n",
              "\n",
              "    .colab-df-convert {\n",
              "      background-color: #E8F0FE;\n",
              "      border: none;\n",
              "      border-radius: 50%;\n",
              "      cursor: pointer;\n",
              "      display: none;\n",
              "      fill: #1967D2;\n",
              "      height: 32px;\n",
              "      padding: 0 0 0 0;\n",
              "      width: 32px;\n",
              "    }\n",
              "\n",
              "    .colab-df-convert:hover {\n",
              "      background-color: #E2EBFA;\n",
              "      box-shadow: 0px 1px 2px rgba(60, 64, 67, 0.3), 0px 1px 3px 1px rgba(60, 64, 67, 0.15);\n",
              "      fill: #174EA6;\n",
              "    }\n",
              "\n",
              "    [theme=dark] .colab-df-convert {\n",
              "      background-color: #3B4455;\n",
              "      fill: #D2E3FC;\n",
              "    }\n",
              "\n",
              "    [theme=dark] .colab-df-convert:hover {\n",
              "      background-color: #434B5C;\n",
              "      box-shadow: 0px 1px 3px 1px rgba(0, 0, 0, 0.15);\n",
              "      filter: drop-shadow(0px 1px 2px rgba(0, 0, 0, 0.3));\n",
              "      fill: #FFFFFF;\n",
              "    }\n",
              "  </style>\n",
              "\n",
              "      <script>\n",
              "        const buttonEl =\n",
              "          document.querySelector('#df-ddb1a6d5-d9ca-4f1f-a6b4-c4059e0fd56d button.colab-df-convert');\n",
              "        buttonEl.style.display =\n",
              "          google.colab.kernel.accessAllowed ? 'block' : 'none';\n",
              "\n",
              "        async function convertToInteractive(key) {\n",
              "          const element = document.querySelector('#df-ddb1a6d5-d9ca-4f1f-a6b4-c4059e0fd56d');\n",
              "          const dataTable =\n",
              "            await google.colab.kernel.invokeFunction('convertToInteractive',\n",
              "                                                     [key], {});\n",
              "          if (!dataTable) return;\n",
              "\n",
              "          const docLinkHtml = 'Like what you see? Visit the ' +\n",
              "            '<a target=\"_blank\" href=https://colab.research.google.com/notebooks/data_table.ipynb>data table notebook</a>'\n",
              "            + ' to learn more about interactive tables.';\n",
              "          element.innerHTML = '';\n",
              "          dataTable['output_type'] = 'display_data';\n",
              "          await google.colab.output.renderOutput(dataTable, element);\n",
              "          const docLink = document.createElement('div');\n",
              "          docLink.innerHTML = docLinkHtml;\n",
              "          element.appendChild(docLink);\n",
              "        }\n",
              "      </script>\n",
              "    </div>\n",
              "  </div>\n",
              "  "
            ]
          },
          "metadata": {},
          "execution_count": 9
        }
      ]
    },
    {
      "cell_type": "code",
      "source": [
        "# Parametros de la función objetivo\n",
        "c = np.array([20, 12, 40, 25])\n",
        "\n",
        "# Restricciones de desigualdad\n",
        "A = np.array([[1, 1, 1, 1],\n",
        "               [3, 2, 1, 0],\n",
        "                  [0, 1, 2, 3]])\n",
        "b = np.array([50,100,90])\n",
        "\n",
        "# Bounds on decision variables\n",
        "bounds2 = [(  0,    None)]\n",
        "\n",
        "# Solve the problem:\n",
        "res2 = linprog(-c, A_ub=A, b_ub=b,\n",
        "                  bounds=bounds2, method='revised simplex')\n",
        "\n",
        "res2"
      ],
      "metadata": {
        "colab": {
          "base_uri": "https://localhost:8080/"
        },
        "id": "Y52qmNCTfiL8",
        "outputId": "078a35ed-1a0d-4f80-c1c5-fde13cb322bc"
      },
      "execution_count": 10,
      "outputs": [
        {
          "output_type": "execute_result",
          "data": {
            "text/plain": [
              "     con: array([], dtype=float64)\n",
              "     fun: -1900.0\n",
              " message: 'Optimization terminated successfully.'\n",
              "     nit: 2\n",
              "   slack: array([ 0., 40.,  0.])\n",
              "  status: 0\n",
              " success: True\n",
              "       x: array([ 5.,  0., 45.,  0.])"
            ]
          },
          "metadata": {},
          "execution_count": 10
        }
      ]
    },
    {
      "cell_type": "code",
      "source": [
        "import cvxpy as cp\n",
        "n = 5\n",
        "x = cp.Variable(n)\n",
        "objective = cp.Minimize(-c2.T@ x)\n",
        "constraints = [A2@x<= b2 , x[1:4] >=-20000 , x[4] <=50000]  \n",
        "prob = cp.Problem(objective, constraints)\n",
        "\n",
        "# The optimal objective value is returned by `prob.solve()`.\n",
        "result = prob.solve()\n",
        "# The optimal value for x is stored in `x.value`.\n",
        "print(x.value)\n",
        "# The optimal Lagrange multiplier for a constraint is stored in\n",
        "x_sol = pd.DataFrame(x.value)\n",
        "# `constraint.dual_value`.\n",
        "print(round(x_sol.round(2)))"
      ],
      "metadata": {
        "colab": {
          "base_uri": "https://localhost:8080/"
        },
        "id": "sHKSgL_EfkCA",
        "outputId": "0cba1b1d-1980-4b78-8201-90e351468273"
      },
      "execution_count": 13,
      "outputs": [
        {
          "output_type": "stream",
          "name": "stdout",
          "text": [
            "[ 24927.75492305  75072.24507695   4648.82539916 -19999.99999994\n",
            "  49999.99945935]\n",
            "         0\n",
            "0  24928.0\n",
            "1  75072.0\n",
            "2   4649.0\n",
            "3 -20000.0\n",
            "4  50000.0\n"
          ]
        }
      ]
    },
    {
      "cell_type": "code",
      "source": [
        "result  #rentabilidad maxima acumulada para el ejercicio"
      ],
      "metadata": {
        "id": "QTpMEhvmpL6s",
        "colab": {
          "base_uri": "https://localhost:8080/"
        },
        "outputId": "7c67c909-d4b7-490d-cdcd-8f628232d32b"
      },
      "execution_count": 14,
      "outputs": [
        {
          "output_type": "execute_result",
          "data": {
            "text/plain": [
              "-141018.24349709204"
            ]
          },
          "metadata": {},
          "execution_count": 14
        }
      ]
    }
  ]
}