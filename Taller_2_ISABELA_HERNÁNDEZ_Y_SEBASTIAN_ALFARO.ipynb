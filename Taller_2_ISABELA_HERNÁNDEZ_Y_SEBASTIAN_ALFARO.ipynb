{
  "nbformat": 4,
  "nbformat_minor": 0,
  "metadata": {
    "colab": {
      "provenance": [],
      "include_colab_link": true
    },
    "kernelspec": {
      "name": "python3",
      "display_name": "Python 3"
    },
    "language_info": {
      "name": "python"
    }
  },
  "cells": [
    {
      "cell_type": "markdown",
      "metadata": {
        "id": "view-in-github",
        "colab_type": "text"
      },
      "source": [
        "<a href=\"https://colab.research.google.com/github/isabela2423/taller-1/blob/main/Taller_2_ISABELA_HERN%C3%81NDEZ_Y_SEBASTIAN_ALFARO.ipynb\" target=\"_parent\"><img src=\"https://colab.research.google.com/assets/colab-badge.svg\" alt=\"Open In Colab\"/></a>"
      ]
    },
    {
      "cell_type": "markdown",
      "source": [
        "Taller #2\n",
        "Integrantes: Sebastian Alfaro e Isabela Hernández\n",
        "\n"
      ],
      "metadata": {
        "id": "F7J4ZA9O8MEw"
      }
    },
    {
      "cell_type": "code",
      "source": [
        "import numpy as np\n",
        "import pandas as pd\n",
        "import matplotlib.pyplot as plt\n",
        "from scipy.optimize import minimize\n",
        "from scipy.optimize import linprog\n",
        "import cvxpy as cp"
      ],
      "metadata": {
        "id": "piEP8qZ08Se3"
      },
      "execution_count": 16,
      "outputs": []
    },
    {
      "cell_type": "markdown",
      "source": [
        "PUNTO 1. La empresa XYZ produce dos productos: A y B. La ganancia por unidad de A es de $3\n",
        "dólares y de B es de $5 dólares. Para su producción dispone de 500 unidades de materia\n",
        "prima, 1000 unidades de mano de obra y 2000 dólares de capital, de los cuales se\n",
        "necesitan para producir una unidad de:\n",
        "i) A: una unidad de materia prima, dos unidades de mano de obra y una unidad de capital.\n",
        "ii) B: una unidad de materia prima, cuatro unidades de mano de obra y dos unidades de\n",
        "capital.\n",
        "Además, se necesita producir al menos 100 unidades de A y 150 unidades de B para\n",
        "satisfacer la demanda del mercado.\n",
        "Encuentre la asignación óptima de A y B que maximizan las ganancias de la empresa.\n",
        "Para ello, formule un problema de LP utilizando Scipy."
      ],
      "metadata": {
        "id": "p0WMngTJ8rzE"
      }
    },
    {
      "cell_type": "code",
      "source": [
        "\n",
        "c = np.array([-3, -5])\n",
        "A = np.array([[1, 1], [2, 4], [1, 2]])\n",
        "b = np.array([500, 1000, 2000])\n",
        "bounds = ((100, None), (150, None))\n",
        "\n",
        "res = linprog(c=c, A_ub=A, b_ub=b, bounds=bounds)\n",
        "\n",
        "print('Ganancias máximas: $' + str(-res.fun))"
      ],
      "metadata": {
        "colab": {
          "base_uri": "https://localhost:8080/"
        },
        "id": "8ium_xH_Dhm8",
        "outputId": "d99318c0-ca08-44b3-d6eb-2aff2b83423f"
      },
      "execution_count": null,
      "outputs": [
        {
          "output_type": "stream",
          "name": "stdout",
          "text": [
            "Ganancias máximas: $1350.0\n"
          ]
        }
      ]
    },
    {
      "cell_type": "code",
      "source": [
        "# Interpretación:Si la empresa produce los productos A y B, mediante las restricciones dadas las ganancias máximas de la empresa serían de 1350.\n",
        "# Las cantidades específicas de A deben ser de 200 y de B deben ser de 150\n",
        "# para que se maximice la ganancia"
      ],
      "metadata": {
        "id": "vUU38znvWbFf"
      },
      "execution_count": null,
      "outputs": []
    },
    {
      "cell_type": "markdown",
      "source": [
        "PUNTO 2. Usted desea invertir la suma de $100 millones en cuatro fondos que tienen diferentes\n",
        "retornos esperados (E(R)), así como diferentes ponderaciones en acciones de alto valor,\n",
        "gran tamaño y alta liquidez, como muestra la siguiente tabla:\n",
        "\n"
      ],
      "metadata": {
        "id": "7Kp9EHZfA0FH"
      }
    },
    {
      "cell_type": "markdown",
      "source": [
        "La asignación anterior debe contener al menos un 35% de acciones de alto valor, un 30%\n",
        "en tamaño y un 15% de acciones de liquidez. Encuentre una asignación factible con el\n",
        "retorno esperado más alto, bajo el supuesto de que solo se le permite mantener posiciones\n",
        "largas en los fondos.\n",
        "Formule y resuelva el problema de LP considerando las siguientes restricciones:\n",
        "\n",
        "0.5 x1 + 0.3 x2 + 0.25 x3 + 0.6 x4 ≥ 0.35 (valor)\n",
        "0.3 x1 + 0.1 x2 + 0.4 x3 + 0.2 x4 ≥ 0.30 (tamaño)\n",
        "0.2 x1 + 0.6 x2 + 0.35 x3 + 0.2 x4 ≥ 0.15 (liquidez)\n",
        "\n",
        "x1 + x2 + x3 + x4 = $100\n",
        "x1, x2, x3, x4 ≥ 0\n",
        "\n",
        "Nota: resuelva el problema anterior usando las librerías de Scipy y CVXPY de Python."
      ],
      "metadata": {
        "id": "Z4XN4jPsBGhE"
      }
    },
    {
      "cell_type": "markdown",
      "source": [],
      "metadata": {
        "id": "LiInAyI8POKq"
      }
    },
    {
      "cell_type": "code",
      "source": [
        "#LIBRERIA SCIPY\n",
        "# Parametros de la función objetivo\n",
        "fun_objt = np.array([0.10 , 0.15 ,0.16 ,0.08])\n",
        "# Restricciones de desigualdad\n",
        "res1 = np.array([[0.5,0.3,0.25,0.6],[0.3,0.1,0.4,0.2],[0.2,0.6,0.35,0.2]])\n",
        "res2= np.array([0.35,0.30,0.15])\n",
        "# Restricciones de igualdad\n",
        "res3 = np.array([[1, 1, 1, 1]])\n",
        "res4= np.array([1])\n",
        "# Solución del problema\n",
        "ans2= linprog(-fun_objt, A_ub=-res1, b_ub=-res2,  A_eq=res3, b_eq=res4,method='simplex')\n",
        "pd.DataFrame(ans2.x).round(4).T*100"
      ],
      "metadata": {
        "colab": {
          "base_uri": "https://localhost:8080/",
          "height": 135
        },
        "id": "MHWYfoJpe8Kb",
        "outputId": "7c6a5bd9-4368-4dfe-cd7e-fc7039c71339"
      },
      "execution_count": null,
      "outputs": [
        {
          "output_type": "stream",
          "name": "stderr",
          "text": [
            "<ipython-input-4-c661022df4a0>:11: DeprecationWarning: `method='simplex'` is deprecated and will be removed in SciPy 1.11.0. Please use one of the HiGHS solvers (e.g. `method='highs'`) in new code.\n",
            "  ans2= linprog(-fun_objt, A_ub=-res1, b_ub=-res2,  A_eq=res3, b_eq=res4,method='simplex')\n"
          ]
        },
        {
          "output_type": "execute_result",
          "data": {
            "text/plain": [
              "     0      1      2      3\n",
              "0  0.0  15.79  57.89  26.32"
            ],
            "text/html": [
              "\n",
              "  <div id=\"df-456bd09f-2774-4fd2-a95e-942c64fa2502\">\n",
              "    <div class=\"colab-df-container\">\n",
              "      <div>\n",
              "<style scoped>\n",
              "    .dataframe tbody tr th:only-of-type {\n",
              "        vertical-align: middle;\n",
              "    }\n",
              "\n",
              "    .dataframe tbody tr th {\n",
              "        vertical-align: top;\n",
              "    }\n",
              "\n",
              "    .dataframe thead th {\n",
              "        text-align: right;\n",
              "    }\n",
              "</style>\n",
              "<table border=\"1\" class=\"dataframe\">\n",
              "  <thead>\n",
              "    <tr style=\"text-align: right;\">\n",
              "      <th></th>\n",
              "      <th>0</th>\n",
              "      <th>1</th>\n",
              "      <th>2</th>\n",
              "      <th>3</th>\n",
              "    </tr>\n",
              "  </thead>\n",
              "  <tbody>\n",
              "    <tr>\n",
              "      <th>0</th>\n",
              "      <td>0.0</td>\n",
              "      <td>15.79</td>\n",
              "      <td>57.89</td>\n",
              "      <td>26.32</td>\n",
              "    </tr>\n",
              "  </tbody>\n",
              "</table>\n",
              "</div>\n",
              "      <button class=\"colab-df-convert\" onclick=\"convertToInteractive('df-456bd09f-2774-4fd2-a95e-942c64fa2502')\"\n",
              "              title=\"Convert this dataframe to an interactive table.\"\n",
              "              style=\"display:none;\">\n",
              "        \n",
              "  <svg xmlns=\"http://www.w3.org/2000/svg\" height=\"24px\"viewBox=\"0 0 24 24\"\n",
              "       width=\"24px\">\n",
              "    <path d=\"M0 0h24v24H0V0z\" fill=\"none\"/>\n",
              "    <path d=\"M18.56 5.44l.94 2.06.94-2.06 2.06-.94-2.06-.94-.94-2.06-.94 2.06-2.06.94zm-11 1L8.5 8.5l.94-2.06 2.06-.94-2.06-.94L8.5 2.5l-.94 2.06-2.06.94zm10 10l.94 2.06.94-2.06 2.06-.94-2.06-.94-.94-2.06-.94 2.06-2.06.94z\"/><path d=\"M17.41 7.96l-1.37-1.37c-.4-.4-.92-.59-1.43-.59-.52 0-1.04.2-1.43.59L10.3 9.45l-7.72 7.72c-.78.78-.78 2.05 0 2.83L4 21.41c.39.39.9.59 1.41.59.51 0 1.02-.2 1.41-.59l7.78-7.78 2.81-2.81c.8-.78.8-2.07 0-2.86zM5.41 20L4 18.59l7.72-7.72 1.47 1.35L5.41 20z\"/>\n",
              "  </svg>\n",
              "      </button>\n",
              "      \n",
              "  <style>\n",
              "    .colab-df-container {\n",
              "      display:flex;\n",
              "      flex-wrap:wrap;\n",
              "      gap: 12px;\n",
              "    }\n",
              "\n",
              "    .colab-df-convert {\n",
              "      background-color: #E8F0FE;\n",
              "      border: none;\n",
              "      border-radius: 50%;\n",
              "      cursor: pointer;\n",
              "      display: none;\n",
              "      fill: #1967D2;\n",
              "      height: 32px;\n",
              "      padding: 0 0 0 0;\n",
              "      width: 32px;\n",
              "    }\n",
              "\n",
              "    .colab-df-convert:hover {\n",
              "      background-color: #E2EBFA;\n",
              "      box-shadow: 0px 1px 2px rgba(60, 64, 67, 0.3), 0px 1px 3px 1px rgba(60, 64, 67, 0.15);\n",
              "      fill: #174EA6;\n",
              "    }\n",
              "\n",
              "    [theme=dark] .colab-df-convert {\n",
              "      background-color: #3B4455;\n",
              "      fill: #D2E3FC;\n",
              "    }\n",
              "\n",
              "    [theme=dark] .colab-df-convert:hover {\n",
              "      background-color: #434B5C;\n",
              "      box-shadow: 0px 1px 3px 1px rgba(0, 0, 0, 0.15);\n",
              "      filter: drop-shadow(0px 1px 2px rgba(0, 0, 0, 0.3));\n",
              "      fill: #FFFFFF;\n",
              "    }\n",
              "  </style>\n",
              "\n",
              "      <script>\n",
              "        const buttonEl =\n",
              "          document.querySelector('#df-456bd09f-2774-4fd2-a95e-942c64fa2502 button.colab-df-convert');\n",
              "        buttonEl.style.display =\n",
              "          google.colab.kernel.accessAllowed ? 'block' : 'none';\n",
              "\n",
              "        async function convertToInteractive(key) {\n",
              "          const element = document.querySelector('#df-456bd09f-2774-4fd2-a95e-942c64fa2502');\n",
              "          const dataTable =\n",
              "            await google.colab.kernel.invokeFunction('convertToInteractive',\n",
              "                                                     [key], {});\n",
              "          if (!dataTable) return;\n",
              "\n",
              "          const docLinkHtml = 'Like what you see? Visit the ' +\n",
              "            '<a target=\"_blank\" href=https://colab.research.google.com/notebooks/data_table.ipynb>data table notebook</a>'\n",
              "            + ' to learn more about interactive tables.';\n",
              "          element.innerHTML = '';\n",
              "          dataTable['output_type'] = 'display_data';\n",
              "          await google.colab.output.renderOutput(dataTable, element);\n",
              "          const docLink = document.createElement('div');\n",
              "          docLink.innerHTML = docLinkHtml;\n",
              "          element.appendChild(docLink);\n",
              "        }\n",
              "      </script>\n",
              "    </div>\n",
              "  </div>\n",
              "  "
            ]
          },
          "metadata": {},
          "execution_count": 4
        }
      ]
    },
    {
      "cell_type": "code",
      "source": [
        "v_maximo= -ans2.fun\n",
        "v_maximo*100"
      ],
      "metadata": {
        "colab": {
          "base_uri": "https://localhost:8080/"
        },
        "id": "hI7xvcJOowC8",
        "outputId": "35afea45-4711-48b6-cd71-6e3825236901"
      },
      "execution_count": null,
      "outputs": [
        {
          "output_type": "execute_result",
          "data": {
            "text/plain": [
              "13.736842105263158"
            ]
          },
          "metadata": {},
          "execution_count": 5
        }
      ]
    },
    {
      "cell_type": "code",
      "source": [
        "n = 4\n",
        "x = cp.Variable(n)\n",
        "objetivo= cp.Minimize(-fun_objt.T@x)\n",
        "restricciones = [ res1 @ x >= res2, cp.sum(x)==1, x>= 0]\n",
        "prob= cp.Problem(objetivo, restricciones)\n",
        "prob.solve()\n",
        "ans2_= x.value\n",
        "print(round(pd.DataFrame(ans2_).T,4))"
      ],
      "metadata": {
        "colab": {
          "base_uri": "https://localhost:8080/"
        },
        "id": "3RseiWYho_LI",
        "outputId": "60f5583e-95de-4934-d214-7bc72afaca57"
      },
      "execution_count": null,
      "outputs": [
        {
          "output_type": "stream",
          "name": "stdout",
          "text": [
            "     0       1       2       3\n",
            "0  0.0  0.1579  0.5789  0.2632\n"
          ]
        }
      ]
    },
    {
      "cell_type": "code",
      "source": [
        "#Interpretación: Para que se llegue a un retorno máximo de 13.73% el peso para el fondo #1 debe ser del 15.79%, para el fondo 2 debe ser del 57.89% y para el fondo 3 debe ser del 26.32%"
      ],
      "metadata": {
        "id": "OMAv7x72ldpY"
      },
      "execution_count": null,
      "outputs": []
    },
    {
      "cell_type": "markdown",
      "source": [
        "PUNTO 3. La empresa XYZ se enfrente al siguiente problema de manejo de efectivo. Las cifras\n",
        "están expresadas en millones ($).\n",
        "Además, se sabe que la empresa cuenta con las siguientes fuentes de recursos:\n",
        "\n",
        "• Una línea de crédito de hasta $100 a una tasa de interés del 1% mensual.\n",
        "• Puede emitir papel comercial a 90 días con un interés total del 2% por un período\n",
        "de 3 meses.\n",
        "• Todos los meses se pueden invertir los fondos sobrantes a una tasa de interés del\n",
        "0,3% mensual. Por ejemplo, la empresa podría hacer un depósito bancario que le\n",
        "reconoce esa tasa.\n",
        "Sobre este problema, la empresa desea saber si: ¿usar la línea de crédito en algunos de\n",
        "los meses le representa un alto costo? si es así ¿cuándo debería usarla? ¿cuánto cuesta?\n",
        "¿qué pagos de intereses tendrá que hacer entre enero y junio? etc... Para responder a\n",
        "estos interrogantes, la empresa puede formular y resolver un problema de LP. Para la\n",
        "formulación del problema tener en cuenta lo siguiente:\n",
        "Variables:\n",
        "xj\n",
        ": monto dispuesto a pedir en la línea de crédito en el mes j, para j = 1,2,3,4,5.\n",
        "yj\n",
        ": monto emitido en el papel comercial en el mes j, para j = 1,2,3.\n",
        "zj\n",
        ": saldo de fondos (FC) en el mes j, para j = 1,2,3,4,5,6.\n",
        "Objetivo: Maximizar el saldo de los fondos (FC) en el mes 6 (Jun):\n",
        "\n",
        "máx z6\n",
        "\n",
        "Restricciones: Restricciones de los saldos en cada mes y límites en xj\n",
        ", yj y zj\n",
        ".\n",
        "\n",
        "x1 + y1 − z1 = 150\n",
        "x2 + y2 −1.01 x1 + 1.003 z1 − z2 = 100\n",
        "x3 + y3 −1.01 x2 + 1.003 z2 − z3 = −200\n",
        "x4 − 1.02 y1 −1.01 x3 + 1.003 z3 − z4 = 200\n",
        "x5 − 1.02 y2 −1.01 x4 + 1.003 z4 − z5 = −50\n",
        "−1.02 y3 −1.01 x5 + 1.003 z5 − z6 = −300\n",
        "\n",
        "xj ≤ 100 para j = 1,2,3,4,5\n",
        "xj ≥ 0 para j = 1,2,3,4,5\n",
        "yj ≥ 0 para j = 1,2,3.\n",
        "zj ≥ 0 para j = 1,2,3,4,5\n",
        "\n",
        "Nota: resuelva el problema anterior usando las librerías de Scipy y CVXPY de Python."
      ],
      "metadata": {
        "id": "Xqo06w1ZfKuS"
      }
    },
    {
      "cell_type": "code",
      "source": [
        "x3 = np.array([0,0,0,0,0,0,0,0,0,0,0,0,0,1])#\n",
        "\n",
        "A3 = np.array([[1,0,0,0,0,1,0,0,-1,0,0,0,0,0],\n",
        "              [-1.01,1,0,0,0,0,1,0,1.003,-1,0,0,0,0],\n",
        "              [0,-1.01,1,0,0,0,0,1,0,1.003,-1,0,0,0],\n",
        "              [0,0,-1.01,1,0,-1.02,0,0,0,0,1.003,-1,0,0],\n",
        "              [0,0,0,-1.01,1,0,-1.02,0,0,0,0,1.003,-1,0],\n",
        "              [0,0,0,0,-1.01,0,0,-1.02,0,0,0,0,1.003,-1]])\n",
        "\n",
        "b3 = np.array([150,100,-200,200,-50,-300])\n",
        "\n",
        "bounds3 = [(0,100),\n",
        "       (0,100),\n",
        "       (0,100),\n",
        "       (0,100),\n",
        "       (0,100),\n",
        "       (0,None),\n",
        "       (0,None),\n",
        "       (0,None),\n",
        "       (0,None),\n",
        "       (0,None),\n",
        "       (0,None),\n",
        "       (0,None),\n",
        "       (0,None),\n",
        "       (0,None),]\n",
        "\n",
        "ans3 = linprog(-x3, A_eq = A3, b_eq = b3,\n",
        "              bounds = bounds3, method = 'revised simplex')\n",
        "\n",
        "ans3.x"
      ],
      "metadata": {
        "id": "PM8nBUd9n-6J",
        "colab": {
          "base_uri": "https://localhost:8080/"
        },
        "outputId": "434a1458-0e5c-48c7-a84f-979438608853"
      },
      "execution_count": 18,
      "outputs": [
        {
          "output_type": "stream",
          "name": "stderr",
          "text": [
            "<ipython-input-18-4f3430f3979f>:27: DeprecationWarning: `method='revised simplex'` is deprecated and will be removed in SciPy 1.11.0. Please use one of the HiGHS solvers (e.g. `method='highs'`) in new code.\n",
            "  ans3 = linprog(-x3, A_eq = A3, b_eq = b3,\n"
          ]
        },
        {
          "output_type": "execute_result",
          "data": {
            "text/plain": [
              "array([  0.        ,  50.98039216,   0.        ,   0.        ,\n",
              "         0.        , 150.        ,  49.01960784, 203.43436358,\n",
              "         0.        ,   0.        , 351.9441675 ,   0.        ,\n",
              "         0.        ,  92.49694915])"
            ]
          },
          "metadata": {},
          "execution_count": 18
        }
      ]
    },
    {
      "cell_type": "markdown",
      "source": [
        "¿Cuando deberia usarla? \n",
        "\n",
        "¿cuánto cuesta?\n",
        "\n",
        "¿qué pagos de intereses tendrá que hacer entre enero y junio?"
      ],
      "metadata": {
        "id": "hgWHv-uG0h3X"
      }
    },
    {
      "cell_type": "code",
      "source": [
        "#Libreria CVPXPY\n",
        "n=14\n",
        "x=cp.Variable(n)\n",
        "objt=cp.Minimize(-x3.T@x)\n",
        "restc3=[A3 @ x == b3, x >= 0]\n",
        "prob= cp.Problem(objt,restc3)\n",
        "prob.solve()\n",
        "ans3_= x.value\n",
        "print(round(pd.DataFrame(ans3_).T,2))"
      ],
      "metadata": {
        "colab": {
          "base_uri": "https://localhost:8080/"
        },
        "id": "LAXUxyX4Tckh",
        "outputId": "372fb664-bd71-4651-bc9b-a157a4b9d15c"
      },
      "execution_count": null,
      "outputs": [
        {
          "output_type": "stream",
          "name": "stdout",
          "text": [
            "    0      1    2    3     4      5      6       7    8    9       10   11  \\\n",
            "0  0.0  42.69  0.0  0.0  8.46  150.0  57.31  195.06  0.0  0.0  351.94  0.0   \n",
            "\n",
            "    12    13  \n",
            "0  0.0  92.5  \n"
          ]
        }
      ]
    },
    {
      "cell_type": "code",
      "source": [
        "#Interpretación: Usar la línea de crédito solo es viable para el segundo mes respectivamente de $50.9803\n",
        "#La línea de bono se usará en el primero, segundo y tercer mes. Con valores de: $150, $49.02 y $203,43 ; respectivamente. \n",
        "# Y finalmente, bajo las restricciones utilizadas, para el tercer mes se podrá permitir un excedente de $351,94 y un saldo máximo de $92,5 para el sexto mes."
      ],
      "metadata": {
        "id": "Ibg997LeAIZg"
      },
      "execution_count": null,
      "outputs": []
    },
    {
      "cell_type": "markdown",
      "source": [
        "Punto 4. La empresa XYZ desea encontrar el saldo óptimo que debe mantener en su cuenta\n",
        "bancaria en un horizonte de un mes buscando maximizar su rentabilidad total. Se sabe\n",
        "que la empresa espera recibir entradas de efectivo de: $500 en la primera semana, $300\n",
        "en la segunda semana, $200 en la tercera semana y $400 en la cuarta semana. Todas las\n",
        "cifras se encuentran en millones de pesos. Además, la empresa debe realizar los\n",
        "siguientes pagos durante el mes: $350 en la primera semana, $400 en la segunda\n",
        "semana, $250 en la tercera semana y $200 en la cuarta semana y, para ello, debe\n",
        "mantener un saldo suficiente que respalde estas obligaciones.\n",
        "Para aprovechar la rentabilidad que ofrecen los saldos en cada momento, la empresa\n",
        "puede invertir sus recursos en un instrumento a corto plazo en el que recibe un\n",
        "rendimiento del 0,02% por día, pero al realizar esta operación debe incurrir en un costo de\n",
        "transacción del 0,01% del monto transferido.\n",
        "Formule un problema de LP utilizando Scipy que le permita maximizar la rentabilidad total\n",
        "de los saldos en su cuenta teniendo en cuenta las restricciones de sus flujos de efectivo."
      ],
      "metadata": {
        "id": "FiBMrGNR8tMl"
      }
    },
    {
      "cell_type": "code",
      "source": [
        "# Función objetivo\n",
        "Func_objt = np.array([0,0,0,0,0,0,0,1])\n",
        "# Restricciones de pago\n",
        "rn=(1+0.0001)**7 #tasa de rentabilidad\n",
        "A= np.array([[1, 0, 0, 0,-1,0,0,0],\n",
        "             [0, 1, 0, 0,rn,-1,0,0],\n",
        "             [0, 0, 1, 0,0,rn,-1,0],\n",
        "             [0, 0, 0, 1,0,0,rn,-1]])\n",
        "    \n",
        "B= np.array([[150,-100,-50,200]])\n",
        "# Funcion optimizacion\n",
        "\n",
        "Respuesta = linprog(-Func_objt, A_ub=A,  b_ub=-B, method=\"simplex\")\n",
        "Val_opti = pd.DataFrame(Respuesta.x).T\n",
        "Val_opti\n"
      ],
      "metadata": {
        "colab": {
          "base_uri": "https://localhost:8080/",
          "height": 135
        },
        "id": "X-Q79KVt825H",
        "outputId": "e9ace18c-af0a-4865-81ae-3eb339aa9f1b"
      },
      "execution_count": null,
      "outputs": [
        {
          "output_type": "stream",
          "name": "stderr",
          "text": [
            "<ipython-input-9-5559109acdcc>:13: DeprecationWarning: `method='simplex'` is deprecated and will be removed in SciPy 1.11.0. Please use one of the HiGHS solvers (e.g. `method='highs'`) in new code.\n",
            "  Respuesta = linprog(-Func_objt, A_ub=A,  b_ub=-B, method=\"simplex\")\n"
          ]
        },
        {
          "output_type": "execute_result",
          "data": {
            "text/plain": [
              "     0    1    2    3      4          5         6           7\n",
              "0  0.0  0.0  0.0  0.0  150.0  50.105032  0.140116  200.140214"
            ],
            "text/html": [
              "\n",
              "  <div id=\"df-8241f866-4afa-4b2a-9cab-7f88536205a8\">\n",
              "    <div class=\"colab-df-container\">\n",
              "      <div>\n",
              "<style scoped>\n",
              "    .dataframe tbody tr th:only-of-type {\n",
              "        vertical-align: middle;\n",
              "    }\n",
              "\n",
              "    .dataframe tbody tr th {\n",
              "        vertical-align: top;\n",
              "    }\n",
              "\n",
              "    .dataframe thead th {\n",
              "        text-align: right;\n",
              "    }\n",
              "</style>\n",
              "<table border=\"1\" class=\"dataframe\">\n",
              "  <thead>\n",
              "    <tr style=\"text-align: right;\">\n",
              "      <th></th>\n",
              "      <th>0</th>\n",
              "      <th>1</th>\n",
              "      <th>2</th>\n",
              "      <th>3</th>\n",
              "      <th>4</th>\n",
              "      <th>5</th>\n",
              "      <th>6</th>\n",
              "      <th>7</th>\n",
              "    </tr>\n",
              "  </thead>\n",
              "  <tbody>\n",
              "    <tr>\n",
              "      <th>0</th>\n",
              "      <td>0.0</td>\n",
              "      <td>0.0</td>\n",
              "      <td>0.0</td>\n",
              "      <td>0.0</td>\n",
              "      <td>150.0</td>\n",
              "      <td>50.105032</td>\n",
              "      <td>0.140116</td>\n",
              "      <td>200.140214</td>\n",
              "    </tr>\n",
              "  </tbody>\n",
              "</table>\n",
              "</div>\n",
              "      <button class=\"colab-df-convert\" onclick=\"convertToInteractive('df-8241f866-4afa-4b2a-9cab-7f88536205a8')\"\n",
              "              title=\"Convert this dataframe to an interactive table.\"\n",
              "              style=\"display:none;\">\n",
              "        \n",
              "  <svg xmlns=\"http://www.w3.org/2000/svg\" height=\"24px\"viewBox=\"0 0 24 24\"\n",
              "       width=\"24px\">\n",
              "    <path d=\"M0 0h24v24H0V0z\" fill=\"none\"/>\n",
              "    <path d=\"M18.56 5.44l.94 2.06.94-2.06 2.06-.94-2.06-.94-.94-2.06-.94 2.06-2.06.94zm-11 1L8.5 8.5l.94-2.06 2.06-.94-2.06-.94L8.5 2.5l-.94 2.06-2.06.94zm10 10l.94 2.06.94-2.06 2.06-.94-2.06-.94-.94-2.06-.94 2.06-2.06.94z\"/><path d=\"M17.41 7.96l-1.37-1.37c-.4-.4-.92-.59-1.43-.59-.52 0-1.04.2-1.43.59L10.3 9.45l-7.72 7.72c-.78.78-.78 2.05 0 2.83L4 21.41c.39.39.9.59 1.41.59.51 0 1.02-.2 1.41-.59l7.78-7.78 2.81-2.81c.8-.78.8-2.07 0-2.86zM5.41 20L4 18.59l7.72-7.72 1.47 1.35L5.41 20z\"/>\n",
              "  </svg>\n",
              "      </button>\n",
              "      \n",
              "  <style>\n",
              "    .colab-df-container {\n",
              "      display:flex;\n",
              "      flex-wrap:wrap;\n",
              "      gap: 12px;\n",
              "    }\n",
              "\n",
              "    .colab-df-convert {\n",
              "      background-color: #E8F0FE;\n",
              "      border: none;\n",
              "      border-radius: 50%;\n",
              "      cursor: pointer;\n",
              "      display: none;\n",
              "      fill: #1967D2;\n",
              "      height: 32px;\n",
              "      padding: 0 0 0 0;\n",
              "      width: 32px;\n",
              "    }\n",
              "\n",
              "    .colab-df-convert:hover {\n",
              "      background-color: #E2EBFA;\n",
              "      box-shadow: 0px 1px 2px rgba(60, 64, 67, 0.3), 0px 1px 3px 1px rgba(60, 64, 67, 0.15);\n",
              "      fill: #174EA6;\n",
              "    }\n",
              "\n",
              "    [theme=dark] .colab-df-convert {\n",
              "      background-color: #3B4455;\n",
              "      fill: #D2E3FC;\n",
              "    }\n",
              "\n",
              "    [theme=dark] .colab-df-convert:hover {\n",
              "      background-color: #434B5C;\n",
              "      box-shadow: 0px 1px 3px 1px rgba(0, 0, 0, 0.15);\n",
              "      filter: drop-shadow(0px 1px 2px rgba(0, 0, 0, 0.3));\n",
              "      fill: #FFFFFF;\n",
              "    }\n",
              "  </style>\n",
              "\n",
              "      <script>\n",
              "        const buttonEl =\n",
              "          document.querySelector('#df-8241f866-4afa-4b2a-9cab-7f88536205a8 button.colab-df-convert');\n",
              "        buttonEl.style.display =\n",
              "          google.colab.kernel.accessAllowed ? 'block' : 'none';\n",
              "\n",
              "        async function convertToInteractive(key) {\n",
              "          const element = document.querySelector('#df-8241f866-4afa-4b2a-9cab-7f88536205a8');\n",
              "          const dataTable =\n",
              "            await google.colab.kernel.invokeFunction('convertToInteractive',\n",
              "                                                     [key], {});\n",
              "          if (!dataTable) return;\n",
              "\n",
              "          const docLinkHtml = 'Like what you see? Visit the ' +\n",
              "            '<a target=\"_blank\" href=https://colab.research.google.com/notebooks/data_table.ipynb>data table notebook</a>'\n",
              "            + ' to learn more about interactive tables.';\n",
              "          element.innerHTML = '';\n",
              "          dataTable['output_type'] = 'display_data';\n",
              "          await google.colab.output.renderOutput(dataTable, element);\n",
              "          const docLink = document.createElement('div');\n",
              "          docLink.innerHTML = docLinkHtml;\n",
              "          element.appendChild(docLink);\n",
              "        }\n",
              "      </script>\n",
              "    </div>\n",
              "  </div>\n",
              "  "
            ]
          },
          "metadata": {},
          "execution_count": 9
        }
      ]
    },
    {
      "cell_type": "code",
      "source": [
        "#Interpretación: En los valores del 0 ,1 ,2 ,3 encontramos que es cero debido a que cada flujo se reinvirtio efectivamente en cada semana , en las columnas 4, 5, 6,7\n",
        "# observamos el flujo respectivo de cada semana mas la rentabilidad de los intereses , \n",
        "#en la cuarta semana encontramos que los intereses son 0,140214 pudo haber sido mas pero en la semana 2 y 3 encontramos perdidas"
      ],
      "metadata": {
        "id": "lCX8WRevoF2a"
      },
      "execution_count": null,
      "outputs": []
    },
    {
      "cell_type": "markdown",
      "source": [
        "5. La empresa XYZ tiene que decidir como distribuye su presupuesto $10.000 millones y la mano de obra (horas de trabajo) en tres departamentos: ventas, marketing y producción buscando maximizar sus ganancias. Para ello, se sabe que cada departamento le proporciona a la empresa las siguientes ganancias: ventas: $5, marketing: 8$, y producción: $10. Esta asignación debe cumplir las siguientes restricciones:\n",
        "i. El total de horas de trabajo disponibles es de 1.000.\n",
        "ii. El departamento de ventas debe recibir al menos el 20% del presupuesto total.\n",
        "iii. El departamento de marketing debe recibir al menos el 30% del total de horas de trabajo disponibles.\n",
        "iv. El departamento de producción debe recibir al menos el 25% del total de horas de trabajo disponibles.\n",
        "Formule un problema de LP utilizando Scipy que le permita maximizar"
      ],
      "metadata": {
        "id": "511dT1XboDpD"
      }
    },
    {
      "cell_type": "code",
      "source": [
        "x = np.array([0,0,0,5,8,10])\n",
        "\n",
        "A5 = np.array([[0,0,0,1,0,0],\n",
        "               [0,1,0,0,0,0],\n",
        "               [0,0,1,0,0,0],\n",
        "               [0,0,0,0,1,0],\n",
        "               [0,0,0,0,0,1]])\n",
        "\n",
        "b5 = np.array([2000,300,250,2000,2000])\n",
        "\n",
        "A6 = np.array([[1,1,1,0,0,0],[0,0,0,1,1,1]])\n",
        "b6 = np.array([1000,10000])\n",
        "\n",
        "ans5 = linprog(-x, A_ub = -A5, b_ub=-b5, A_eq=A6, b_eq=b6, method ='simplex')\n",
        "print(round(pd.DataFrame(ans5.x),2))"
      ],
      "metadata": {
        "colab": {
          "base_uri": "https://localhost:8080/"
        },
        "id": "TbG69qgHxto5",
        "outputId": "89e23b33-7d94-48f8-b9cc-05177051ee85"
      },
      "execution_count": 31,
      "outputs": [
        {
          "output_type": "stream",
          "name": "stdout",
          "text": [
            "        0\n",
            "0   450.0\n",
            "1   300.0\n",
            "2   250.0\n",
            "3  2000.0\n",
            "4  2000.0\n",
            "5  6000.0\n"
          ]
        },
        {
          "output_type": "stream",
          "name": "stderr",
          "text": [
            "<ipython-input-31-bcc0bcd0e536>:14: DeprecationWarning: `method='simplex'` is deprecated and will be removed in SciPy 1.11.0. Please use one of the HiGHS solvers (e.g. `method='highs'`) in new code.\n",
            "  ans5 = linprog(-x, A_ub = -A5, b_ub=-b5, A_eq=A6, b_eq=b6, method ='simplex')\n"
          ]
        }
      ]
    },
    {
      "cell_type": "code",
      "source": [
        "#Interpretación: Para que la empresa pueda distribuir los $10.000.000 y la mano de obra en tres departamentos: ventas, marketing y producción. Con el objetivo \n",
        "#de maximizar la ganancia, la distribución se debe realizar de esta forma:\n",
        "#las filas del 0 al 2 nos explica las horas distribuidas, ventas  tiene 450 horas de mano de obra ,\n",
        "#marketing 300  de mano de obra y produccion 250 mano de obra\n",
        "#Por otro lado, de la fila 3 a la 5: se puede observar como se van a asignar los 10millones \n",
        "#Con un resultado de: 2000 millones  a ventas , 2000 millones a marketing y 6000 millones a producción."
      ],
      "metadata": {
        "id": "wZzauaC--965"
      },
      "execution_count": null,
      "outputs": []
    },
    {
      "cell_type": "markdown",
      "source": [
        "6. Considere una empresa con tres puntos potenciales para ubicar sus instalaciones (J =\n",
        "{1,2,3}) y cinco puntos de demanda que debe satisfacer (I = {1,2,3,4,5}). La apertura del\n",
        "punto j ∈ J tiene un costo fijo de funcionamiento fj, independientemente del volumen de\n",
        "ventas que maneje. Este volumen está limitado a una determinada cantidad máxima que\n",
        "puede manejarse anualmente (Mj). Además, hay un costo de transporte cij para ir desde el punto j para abastecer la demanda en el punto i. Las siguientes tablas muestran los datos\n",
        "de demanda en cada punto:\n",
        "\n",
        "Puntos 1 2 3 4 5\n",
        "Demanda 80 270 250 160 180\n",
        "\n",
        "Y los costos de transporte, de funcionamiento y cantidad máxima que puede mantener en\n",
        "cada\n",
        "\n",
        "Planta Costos en cada punto de demanda fj Mj\n",
        "\n",
        "4 , 5 , 6 , 8 , 10 ,1.000 ,\n",
        "500\n",
        "\n",
        "6  4  3 5   8  1.000 500\n",
        "\n",
        "9  7  4 3   4  1.000 500\n",
        "\n",
        "Las columnas 1-5 muestran el costo de transporte desde cada punto instalado (planta) a\n",
        "cada demanda que debe satisfacer. Las columnas fj y Mj muestran los costos fijos y la\n",
        "capacidad máxima en cada ubicación. Encuentre la ubicación óptima para satisfacer las\n",
        "demandas de tal forma que se minimicen los costos.\n",
        "Formule un problema de optimización utilizando Scipy que le permita encontrar la\n",
        "estrategia optima de la empresa para reducir sus costos de funcionamiento y transporte."
      ],
      "metadata": {
        "id": "H3LyRnoxH7FY"
      }
    },
    {
      "cell_type": "code",
      "source": [
        "from cvxpy import constraints\n",
        "c6 = np.array([[4, 5, 6, 8, 10], [6,4,3,5,8], [9,7,4,3,4]]) #Coeficientes función costos\n",
        "b6= np.array([500,500,500]) #Coeficientes Mj\n",
        "d6= np.array ( [80,270,250,160,180])\n",
        "m = np.array([1000, 1000, 1000]) \n",
        "\n",
        "X6 = cp.Variable((3,5), nonneg=True)\n",
        "Y6 = cp.Variable(3, boolean=True)\n",
        "\n",
        "\n",
        "objective = cp.sum(cp.multiply(c6, X6)) + cp.sum(cp.multiply(m, Y6))\n",
        "objt6=cp.Minimize(objective)\n",
        "\n",
        "restc6=[cp.sum(X6[0,:])<=b6[0]*Y6[0],cp.sum(X6[1,:])<=b6[1]*Y6[1], cp.sum(X6[2,:])<=b6[2]*Y6[2],\n",
        "                 cp.sum(X6[:,0])==d6[0],cp.sum(X6[:,1])==d6[1],cp.sum(X6[:,2])==d6[2], cp.sum(X6[:,3])==d6[3],  cp.sum(X6[:,4])==d6[4],\n",
        "                 cp.sum(Y6)==2]\n",
        "\n"
      ],
      "metadata": {
        "id": "4RAUqD-QH53N"
      },
      "execution_count": 27,
      "outputs": []
    },
    {
      "cell_type": "code",
      "source": [
        "prob= cp.Problem(objt6,restc6)\n",
        "prob.solve()\n",
        "print(round(pd.DataFrame(X6.value),2))"
      ],
      "metadata": {
        "colab": {
          "base_uri": "https://localhost:8080/"
        },
        "id": "LCp0CLht36vm",
        "outputId": "5b38abb1-dc32-46d2-919a-85c5aba3bd5c"
      },
      "execution_count": 29,
      "outputs": [
        {
          "output_type": "stream",
          "name": "stdout",
          "text": [
            "      0      1      2      3      4\n",
            "0  -0.0   -0.0   -0.0   -0.0   -0.0\n",
            "1  80.0  270.0  150.0   -0.0   -0.0\n",
            "2  -0.0   -0.0  100.0  160.0  180.0\n"
          ]
        }
      ]
    },
    {
      "cell_type": "code",
      "source": [
        "#Como se puede observar en la gráfica, para poder tener un a minimización de costos la planta cero se cierra y por lo tanto no habran costos para esta.\n",
        "#Adicionalmente, si se desea que haya una estrategia optima donde se minimicen los costos, se dará la siguiente asignación por planta:\n",
        "#PLANTA 1: para esta planta los costos por transpote serán de 270, los costos de funcionamiento  por 150\n",
        "#PLANTA 2: para esta planta los costos de funcionamiento seran de 100, la distribución de 160 y finalmente la capcidad de 180.\n",
        "#De está maneraa se respetan las restricciones de demanda, pues los resultados de las sumas de cada columna tendrán un valor total de la siguiente forma (80,270,250,160,180)"
      ],
      "metadata": {
        "id": "c2kTobA77VJ6"
      },
      "execution_count": null,
      "outputs": []
    }
  ]
}