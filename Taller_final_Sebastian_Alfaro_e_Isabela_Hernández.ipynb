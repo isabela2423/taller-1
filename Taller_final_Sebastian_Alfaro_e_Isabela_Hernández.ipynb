{
  "nbformat": 4,
  "nbformat_minor": 0,
  "metadata": {
    "colab": {
      "provenance": [],
      "include_colab_link": true
    },
    "kernelspec": {
      "name": "python3",
      "display_name": "Python 3"
    },
    "language_info": {
      "name": "python"
    }
  },
  "cells": [
    {
      "cell_type": "markdown",
      "metadata": {
        "id": "view-in-github",
        "colab_type": "text"
      },
      "source": [
        "<a href=\"https://colab.research.google.com/github/isabela2423/taller-1/blob/main/Taller_final_Sebastian_Alfaro_e_Isabela_Hern%C3%A1ndez.ipynb\" target=\"_parent\"><img src=\"https://colab.research.google.com/assets/colab-badge.svg\" alt=\"Open In Colab\"/></a>"
      ]
    },
    {
      "cell_type": "markdown",
      "source": [
        "**TALLER FINAL **\n",
        "Universidad Externado de Colombia\n",
        "Finanzas computacionales\n",
        "Integrantes: Isabela Hernández y Sebastian Alfaro "
      ],
      "metadata": {
        "id": "9BKECT_D0Mhb"
      }
    },
    {
      "cell_type": "markdown",
      "source": [
        "**Descripción del problema, justificación y objetivo**"
      ],
      "metadata": {
        "id": "RslvR60d0UPN"
      }
    },
    {
      "cell_type": "markdown",
      "source": [
        "**Descripción problema:**\n",
        "\n",
        "\n",
        "\n",
        "Construcción aleatoria y optimización de un portafolio Construcción del problema: \n",
        "El problema que buscamos resolver en este proyecto es construir un portafolio sharpe en el lenguaje de programación Python. Este proyecto desafía nuestros   conocimientos de nuestra materia de “portafolio” y a su vez   programar y resolver problemas en Python. Ahora bien, Teniendo en cuenta que el portafolio tangente de Sharpe (PT-Sharpe) es un portafolio estructurado para minimizar los riesgos como el portafolio de “mínima varianza” pero a su vez  este busca a la vez la mayor rentabilidad de la inversión posible (siendo este el punto tangente) , su enfoque prioriza la mayor relación Sharpe posible de retornos esperados sobre unidad de riesgo que en este caso permitimos que se permita el proceso en “corto”.\n",
        "Dicho esto, otro de los desafíos del modelo es mediante una construcción aleatoria encontrar los pesos óptimos para encontrar el portafolio Sharpe. De esta manera se buscará generar una matriz de distribución normal multivariada que genere 10.000 retornos de los activos, con finalidad de obtener los pesos óptimos para cada activo.\n",
        "\n",
        "\n",
        "\n",
        "\n",
        "**Justificación**\n",
        "Los activos que quisimos analizar fueron las empresas más grandes en el sector de alimentos y bebidas ,que están en gran parte del mundo y tienen compradas muchas marcas nacionales de muchos países , estas son Nestle (NSRGY), Pepsico(PEP), Coca Cola(KO) y Mc donalds(MCD). Nos pareció interesante construir el taller con base en este sector ya que queríamos analizar un sector en el cual las compañías que lo componen son muy competitivas y abarcan la mayoría del sector del país donde se encuentren, para finalmente ver como se comportarían estas acciones en esta optimización del portafolio. \n",
        "los retornos históricos se tomaron desde 2017-12-01  hasta 2022-12-31 (5 años) periodo óptimo para analizar su comportamiento.\n",
        "\n",
        "\n",
        "\n",
        "**Objetivos: **Analizar los resultados finales con el fin de ver cuáles son las acciones entre 2018 y 2023 con más participación en el primer portafolio  y después comparar los pesos de estas acciones con las optimizadas por los modelos ,también sería interesante encontrar si hay alguna acción que apalanco al portafolio mediante una posición en cortos y que tanto lo hizo.  \n",
        "A su vez ,El objetivo de nuestro taller será optimizar el portafolio  mediante el modelo   de cvx que consiste para analizar la capacidad de un modelo de optimización y de su optimización en modelos,  también  usaremos Monte Carlo que se utiliza ya que es una técnica que se usa para determinar la de probabilidad de algo en específico ,que generar muchas muestras aleatorias y generar su distribución en el modelo propuesto y en este caso los pesos del portafolio tangente de Sharpe mediante la simulación de una matriz de la distribución normal multivariada de 10000 retornos de los activos, con finalidad de obtener los pesos óptimos para cada activo. De esta manera, se podrá elaborar un problema de optimización de portafolios con base a códigos que se utilizaron como material de la clase y códigos que fueron investigados por fuera de la clase, como base de apoyo para la construcción del taller (para construir la matriz de distribución normal multivariada)\n"
      ],
      "metadata": {
        "id": "YooctK0b9akw"
      }
    },
    {
      "cell_type": "code",
      "execution_count": null,
      "metadata": {
        "id": "CgKnCnmER38c"
      },
      "outputs": [],
      "source": [
        "import numpy as np\n",
        "import pandas as pd\n",
        "import matplotlib.pyplot as plt\n",
        "import cvxpy as cp\n",
        "from scipy import stats\n",
        "from scipy.stats import norm\n",
        "!pip install --quiet yfinance\n",
        "import yfinance as yf\n",
        "import warnings\n",
        "warnings.filterwarnings(\"ignore\")"
      ]
    },
    {
      "cell_type": "markdown",
      "source": [
        "Construcción aleatoria y optimización portafolio"
      ],
      "metadata": {
        "id": "R-pQ-Xc2SBRs"
      }
    },
    {
      "cell_type": "code",
      "source": [
        "#Construcción del portafolio con los activos de Nestle (NSRGY), Pepsico(PEP), Coca Cola(KO) y Mc donalds(MCD)\n",
        "activos = ['NSRGY', 'PEP', 'KO', 'MCD']\n",
        "precios = yf.download(activos, start='2017-12-01', end='2022-12-31', interval='1Mo')['Adj Close']\n",
        "retornos = np.log(precios/precios.shift()).dropna()\n",
        "mu = retornos.mean()\n",
        "cov = retornos.cov()\n",
        "sigma = retornos.std()\n",
        "plt.plot(sigma, mu, '*')\n",
        "plt.ylabel(\"Retorno esperado\")\n",
        "plt.xlabel(\"Riesgo\")\n",
        "plt.xlim(0,0.2)\n",
        "plt.show();"
      ],
      "metadata": {
        "colab": {
          "base_uri": "https://localhost:8080/",
          "height": 466
        },
        "id": "T7ffBmO4VgN_",
        "outputId": "0fb0768d-915c-46ea-f738-9845ac53e2d2"
      },
      "execution_count": null,
      "outputs": [
        {
          "output_type": "stream",
          "name": "stdout",
          "text": [
            "[*********************100%***********************]  4 of 4 completed\n"
          ]
        },
        {
          "output_type": "display_data",
          "data": {
            "text/plain": [
              "<Figure size 640x480 with 1 Axes>"
            ],
            "image/png": "[encoded data removed]"
          },
          "metadata": {}
        }
      ]
    },
    {
      "cell_type": "code",
      "source": [
        "#Portafolio de Sharpe \n",
        "n = len(mu)\n",
        "x = cp.Variable(n)\n",
        "objetivo = cp.Minimize(cp.quad_form(x, cov))\n",
        "restricciones = [x @ mu == 1, x >= 0]\n",
        "prob = cp.Problem(objetivo, restricciones)\n",
        "prob.solve()\n",
        "wpt1 = x.value/x.value.sum()\n",
        "wpt1"
      ],
      "metadata": {
        "colab": {
          "base_uri": "https://localhost:8080/"
        },
        "id": "mJRXhXOzA7tX",
        "outputId": "626c2152-3680-489f-e208-bab0c44e5699"
      },
      "execution_count": null,
      "outputs": [
        {
          "output_type": "execute_result",
          "data": {
            "text/plain": [
              "array([-1.32001617e-20,  2.94466939e-01,  2.37544795e-01,  4.67988266e-01])"
            ]
          },
          "metadata": {},
          "execution_count": 4
        }
      ]
    },
    {
      "cell_type": "code",
      "source": [
        "#Construcción de la matriz de la distribución normal multivariada de 10000 pesos del portafolio tangente de Sharpe de los activos.\n",
        "#Esto se realizo por cada activo, para finalmente unirlo en un Data Frame (z) y generar una sola matriz a la cual se le calcula la media\n",
        "# y la covarianza. Finalmente, de los datos de mu y cov de la matriz, se puede optimizar mediante cvx.\n",
        "for i in range(10000):\n",
        " DistrbM=np.random.multivariate_normal(mu,cov,10000)\n",
        " DistrbM\n",
        " pd.DataFrame(DistrbM)\n",
        " #Se saca la media y covarianzas de la matriz de la distribución normal multivariada de los activos \n",
        " col_means = np.mean(DistrbM, axis=0)\n",
        " cov_DistrbM = np.cov(DistrbM, rowvar=False)\n",
        " #Se optimiza con el uso de la media y covarianza que dio anteriormente \n",
        " x = cp.Variable(n)\n",
        " objetivo = cp.Minimize(cp.quad_form(x, cov_DistrbM))\n",
        " restricciones = [x @ col_means == 1, x >= 0]\n",
        " prob = cp.Problem(objetivo, restricciones)\n",
        " prob.solve()\n",
        " wpt = x.value/x.value.sum()\n",
        " \n"
      ],
      "metadata": {
        "id": "43O7o_17Bn4Y"
      },
      "execution_count": null,
      "outputs": []
    },
    {
      "cell_type": "markdown",
      "source": [],
      "metadata": {
        "id": "QM8Hxj0A0Lcg"
      }
    },
    {
      "cell_type": "code",
      "source": [
        "#A partir de la simulación generada conforme a los parámetros obtenidos de los retornos de las acciones, encontramos los pesos óptimos para cada activo que maximizan el ratio de Sharpe\n",
        "wpt"
      ],
      "metadata": {
        "colab": {
          "base_uri": "https://localhost:8080/"
        },
        "id": "hOtT-PzBYG6t",
        "outputId": "9dec5d80-28e8-4142-afbc-a1d500677967"
      },
      "execution_count": null,
      "outputs": [
        {
          "output_type": "execute_result",
          "data": {
            "text/plain": [
              "array([-2.48464512e-21,  3.87129846e-01,  2.38032096e-01,  3.74838058e-01])"
            ]
          },
          "metadata": {},
          "execution_count": 91
        }
      ]
    },
    {
      "cell_type": "code",
      "source": [
        "#Para concluir con el fin de analizar los resultados de los pesos encontramos en la primera obtencion de los pesos :\n",
        "#([-1.32001617e-20,  2.94466939e-01,  2.37544795e-01,  4.67988266e-01])\n",
        "#Nestle, Pepsico, Coca Cola y Mc cada uno respectivamente siendo mc donalds con el mayor tamaño con el 46% del portafolio seguido por  pepsi con 29% y cocacola con 23% ,sin embargo  \n",
        "#nestle va en cortos pero no es tan significante ni alcanza apalancar .Ahora bien despues de aplicar los modelos y optimizar los pesos encontramos los siguientes coeficiientes\n",
        "#(-2.48464512e-21,  3.87129846e-01,  2.38032096e-01,  3.74838058e-01) en este caso encontramos que la accion con mayor porcentage en el portafolio es pepsi y en segundo lugar mc donalds ,seguido por cocacola e \n",
        "#igualmente nestle trabaja en cortos pero es muy pequeño su tamaño en el portafolio"
      ],
      "metadata": {
        "id": "YmepxUgI_0KW"
      },
      "execution_count": null,
      "outputs": []
    }
  ]
}